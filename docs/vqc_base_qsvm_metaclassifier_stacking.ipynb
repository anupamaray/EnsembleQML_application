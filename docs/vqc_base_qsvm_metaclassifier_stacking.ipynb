{
  "cells": [
    {
      "cell_type": "markdown",
      "metadata": {
        "id": "7TI0jzFo5fV_"
      },
      "source": [
        "# **Stacking with VQC as base classifier and QSVM as meta classifier**\n",
        "In this tutorial, we will see the classical stacking of VQC and QSVM algorithms, with VQC as base classifier and QSVM as meta classifier. The stacking algorithm works as below\\\n",
        "1) The base classifiers are trained with training data\\\n",
        "2) The trained base classifiers are used to test both training data and testing data\\\n",
        "3) The output labels from base classifiers on training and testing data are appended as features to original training and testing data\\\n",
        "4) Now we train the meta classifier with appended training data and test it on appended testing data to get final prediction values\n",
        "\n"
      ],
      "id": "7TI0jzFo5fV_"
    },
    {
      "cell_type": "markdown",
      "metadata": {
        "id": "wwgHoJdKZBuf"
      },
      "source": [
        "Below is detailed explanation and implementation of each of above steps\n"
      ],
      "id": "wwgHoJdKZBuf"
    },
    {
      "cell_type": "markdown",
      "metadata": {
        "id": "CDRv2RL3fF42"
      },
      "source": [
        "We first need to install qiskit and qiskit_machine_learning modules if not already installed. We start by importing all necessary libraries from qiskit,  qiskit\\_machine\\_learning and some related modules as shown in below cells."
      ],
      "id": "CDRv2RL3fF42"
    },
    {
      "cell_type": "code",
      "execution_count": null,
      "metadata": {
        "id": "ba5f1a2c"
      },
      "outputs": [],
      "source": [
        "from qiskit import BasicAer\n",
        "from qiskit.utils import QuantumInstance, algorithm_globals\n",
        "from qiskit.algorithms.optimizers import COBYLA\n",
        "from qiskit.circuit.library import TwoLocal\n",
        "from qiskit_machine_learning.algorithms import VQC, QSVC\n",
        "from qiskit_machine_learning.kernels import QuantumKernel\n",
        "from qiskit_machine_learning.circuit.library import RawFeatureVector\n",
        "from qiskit.circuit.library import RealAmplitudes, ZZFeatureMap, ZFeatureMap, NLocal\n",
        "from qiskit import QuantumCircuit\n",
        "from qiskit.circuit import Parameter"
      ],
      "id": "ba5f1a2c"
    },
    {
      "cell_type": "code",
      "execution_count": null,
      "metadata": {
        "colab": {
          "base_uri": "https://localhost:8080/"
        },
        "id": "5a0ab1a5",
        "outputId": "d0dc71a3-6fe1-4829-8602-77c6d94354f5"
      },
      "outputs": [
        {
          "name": "stdout",
          "output_type": "stream",
          "text": [
            "['/content', '/env/python', '/usr/lib/python37.zip', '/usr/lib/python3.7', '/usr/lib/python3.7/lib-dynload', '', '/usr/local/lib/python3.7/dist-packages', '/usr/lib/python3/dist-packages', '/usr/local/lib/python3.7/dist-packages/IPython/extensions', '/root/.ipython']\n"
          ]
        }
      ],
      "source": [
        "import sys\n",
        "print(sys.path)\n",
        "sys.path.append(\"\")"
      ],
      "id": "5a0ab1a5"
    },
    {
      "cell_type": "code",
      "execution_count": null,
      "metadata": {
        "id": "c5f149ce"
      },
      "outputs": [],
      "source": [
        "import numpy as np\n",
        "from sklearn import svm, metrics\n",
        "from sklearn.metrics import classification_report, confusion_matrix\n",
        "from time import time\n",
        "from sklearn.linear_model import LogisticRegression"
      ],
      "id": "c5f149ce"
    },
    {
      "cell_type": "markdown",
      "metadata": {
        "id": "075e_f5ME96T"
      },
      "source": [
        "###Data set\n",
        "We use ethereum networks data to perform stacking. We consider 7 features for data set\\\n",
        "1) Degree - In degree, Out degree, Total degree\\\n",
        "2) Strength - In strength, Out strength, Total strength\\\n",
        "3) Number of neighbours\n",
        "\n",
        "The files 'train_data.npy' and 'train_labels.npy' have 960 training data points and corresponding labels respectively, first 160 training data points are of phishing nodes and next 800 are of non-phishing nodes. The files 'test_data.npy' and 'test_labels.npy' have 11000 testing data points and corresponding labels respectively, first 1000 testing data points are of phishing nodes and next 10000 are of non-phishing nodes.\n",
        "\n",
        "\n",
        "let us choose 320 training data points to perform stacking, 160 phishing and 160 non-phishing. Even though the real life data is highly imbalanced, we choose equal number of phishing and non-phishing nodes for training our classifiers and then test on imbalanced testing data. With different experiments on this data set, taking balanced training data proved more effective in giving good results"
      ],
      "id": "075e_f5ME96T"
    },
    {
      "cell_type": "code",
      "execution_count": null,
      "metadata": {
        "id": "e7KUC09MEbdO"
      },
      "outputs": [],
      "source": [
        "train_data = np.load('train_data.npy')\n",
        "train_labels = np.load('train_labels.npy')\n",
        "test_data = np.load('test_data.npy')\n",
        "test_labels = np.load('test_labels.npy')\n",
        "train_data = train_data[:320]\n",
        "train_labels = train_labels[:320]"
      ],
      "id": "e7KUC09MEbdO"
    },
    {
      "cell_type": "markdown",
      "metadata": {
        "id": "b595097e"
      },
      "source": [
        "# Classical SVM training and testing\n",
        "We perform classical support vector machine classification to compare our final results"
      ],
      "id": "b595097e"
    },
    {
      "cell_type": "code",
      "execution_count": null,
      "metadata": {
        "colab": {
          "base_uri": "https://localhost:8080/"
        },
        "id": "a3e4eba1",
        "outputId": "ee20d91d-650c-471b-c84c-c00f2ddf02ad",
        "scrolled": false
      },
      "outputs": [
        {
          "name": "stdout",
          "output_type": "stream",
          "text": [
            "*** Training a classical SVM classifier with rbf Kernel ***\n",
            "training time for classical SVM :  0.016150712966918945\n",
            "[[9676  324]\n",
            " [ 559  441]]\n",
            "              precision    recall  f1-score   support\n",
            "\n",
            "           0       0.95      0.97      0.96     10000\n",
            "           1       0.58      0.44      0.50      1000\n",
            "\n",
            "    accuracy                           0.92     11000\n",
            "   macro avg       0.76      0.70      0.73     11000\n",
            "weighted avg       0.91      0.92      0.91     11000\n",
            "\n"
          ]
        }
      ],
      "source": [
        "#Training classical SVM with rbf kernel\n",
        "\n",
        "print(\"*** Training a classical SVM classifier with rbf Kernel ***\")\n",
        "\n",
        "#converting two dimensional labels to 1D\n",
        "train_labels_svm = train_labels[:,0]\n",
        "test_labels_svm = test_labels[:,0]\n",
        "\n",
        "clf = svm.SVC(kernel='rbf')\n",
        "start_time = time()\n",
        "clf.fit(train_data, train_labels_svm)\n",
        "end_time = time()\n",
        "duration = end_time - start_time\n",
        "print(\"training time for classical SVM : \", duration)\n",
        "y_pred=clf.predict(test_data)\n",
        "print(confusion_matrix(test_labels_svm, y_pred))\n",
        "print(classification_report(test_labels_svm, y_pred))"
      ],
      "id": "a3e4eba1"
    },
    {
      "cell_type": "markdown",
      "metadata": {
        "id": "74fc9a4b"
      },
      "source": [
        "# **Stacking**\n",
        "###Initializing the classifiers\n",
        "Initialize the two classifiers QSVM and VQC. ZZ feature map is used to encode classical data into quantum for both classifiers, it can be described using below equations\\\n",
        "$ZZ feature map = U_{\\phi(x)}H^{\\otimes m}$\\\n",
        "where $U_{\\phi(x)} = exp\\left(j\\sum_{k\\in [m]}\\phi_k(x_i)\\prod_{l\\in k}Z_l\\right)$, \n",
        "$[m]=\\{1,\\dots,m,(1,2),(1,3),\\dots,(m-1,m)\\}$,\\\n",
        "where $\\phi_p(x_i) = x_i^{(p)}$ and $\\phi_{(p,q)}(x_i)=(\\pi-x_i^{(p)})(\\pi-x_i^{(q)})$\\\n",
        "$Z=pauli-Z$ $gate$, $j = imaginary$ $unit$\n",
        "\n",
        "\n",
        "We use TwoLocal ansatz(parametrized quantum circuit with trainable parameters) for VQC classifier.\\\n",
        "Two local ansatz is a parameterized circuit consisting of alternating rotation layers and entanglement layers. The rotation layers are single qubit gates applied on all qubits. The entanglement layer uses two-qubit gates to entangle the qubits according to a strategy set using entanglement. For more information about two local ansatz refer [Two local ansatz reference](https://qiskit.org/documentation/stubs/qiskit.circuit.library.TwoLocal.html#:~:text=The%20two-local%20circuit%20is%20a%20parameterized%20circuit%20consisting,rotation%20and%20entanglement%20gates%20can%20be%20specified%20as)\n",
        "\n",
        "Multiple ansatzes can be used in one VQC, however after experimentation with different number of repetitions of ansatzes, we identified that for this data set shallow circuit is more suitable, thus we are using only two repetitions of ansatz in this tutorial and not going beyond it. For reference we can look at figure 10 in below paper\n",
        "\n",
        "VQC is trained with maxiter 100 and COBYLA is chosen as our optimizer to update VQC parameters. \n",
        "\n",
        "Feature map is used to calculate kernel matrix for QSVM classifier. It can be calculated using below equation\\\n",
        "$K(\\vec{x_i},\\vec{x_j}) =K_{ij}= \\vert\\langle\\phi^\\dagger(\\vec{x_j})\\vert\\phi(\\vec{x_i})\\rangle\\vert^2$, where $x_i,x_j\\in X$(training data set) and $\\phi$ represents feature map \n",
        "\n",
        "Statevector simulator is used to simulate the results of quantum computer, it can be replaced with backend for harware results"
      ],
      "id": "74fc9a4b"
    },
    {
      "cell_type": "code",
      "execution_count": null,
      "metadata": {
        "id": "79a6dd54"
      },
      "outputs": [],
      "source": [
        "seed = 1376\n",
        "\n",
        "#feature dimensions\n",
        "feature_dim = train_data.shape[1]\n",
        "\n",
        "#feature map of VQC and QSVM\n",
        "feature_map = ZZFeatureMap(feature_dim)\n",
        "\n",
        "#ansatz we use in VQC\n",
        "ansatz = TwoLocal(feature_dim, ['ry', 'rz'], 'cz', reps = 2)\n",
        "\n",
        "#initialize VQC\n",
        "vqc = VQC(feature_map=feature_map,\n",
        "                 ansatz=ansatz,\n",
        "                 optimizer=COBYLA(maxiter=100),\n",
        "                 quantum_instance=QuantumInstance(BasicAer.get_backend('statevector_simulator'),\n",
        "                                                 seed_simulator=seed,\n",
        "                                                 seed_transpiler=seed)\n",
        "                 )\n",
        "\n",
        "#initialize kernel of QSVM\n",
        "kernel = QuantumKernel(feature_map=feature_map,\n",
        "                             quantum_instance=QuantumInstance(BasicAer.get_backend('statevector_simulator'),\n",
        "                                            shots=1,\n",
        "                                            seed_simulator=seed,\n",
        "                                                              seed_transpiler=seed))\n",
        "\n",
        "#initialize QSVM\n",
        "qsvc = QSVC(quantum_kernel=kernel)"
      ],
      "id": "79a6dd54"
    },
    {
      "cell_type": "markdown",
      "metadata": {
        "id": "u_MTPctWV8f4"
      },
      "source": [
        "###Training the base classifier\n",
        "In the following cells we train the base classifier VQC using 320 training data points, then we predict the labels of both training data and testing data using the trained VQC, the labels we obtained are added as features to initial training and testing data sets"
      ],
      "id": "u_MTPctWV8f4"
    },
    {
      "cell_type": "code",
      "execution_count": null,
      "metadata": {
        "id": "2e8cc882"
      },
      "outputs": [],
      "source": [
        "#train base classifiers and append features to data\n",
        "\n",
        "def level_0():\n",
        "    \n",
        "    #Use VQC and train data, append the predicted labels on train data to train data features \n",
        "    vqc.fit(train_data, train_labels)\n",
        "    a = vqc.predict(train_data)\n",
        "    label_1 = np.delete(a,1,1)\n",
        "    train_added = np.append(train_data,label_1,1)\n",
        "    \n",
        "    #append the predicted labels on test data to test data features\n",
        "    d = vqc.predict(test_data)\n",
        "    label_4 = np.delete(d,1,1)\n",
        "    test_added = np.append(test_data,label_4,1)\n",
        "    \n",
        "    return train_added,test_added"
      ],
      "id": "2e8cc882"
    },
    {
      "cell_type": "code",
      "execution_count": null,
      "metadata": {
        "colab": {
          "background_save": true
        },
        "id": "f17498af",
        "outputId": "9f37a511-38d8-4318-f906-bac330e8d3fd"
      },
      "outputs": [
        {
          "name": "stdout",
          "output_type": "stream",
          "text": [
            "training time :  1368.7257087230682\n"
          ]
        }
      ],
      "source": [
        "#get appended train and test data\n",
        "\n",
        "start_time = time()\n",
        "train_added, test_added = level_0()\n",
        "end_time = time()\n",
        "duration = end_time - start_time\n",
        "print(\"training time : \", duration)"
      ],
      "id": "f17498af"
    },
    {
      "cell_type": "markdown",
      "metadata": {
        "id": "ms-ozvtOW5Ir"
      },
      "source": [
        "###Training the meta classifier\n",
        "The QSVM classifier is now trained with training data of 320 data points with 8 features. We already have 7 features from original data set, the 8th feature is the prediction label of that particular training data point using the base classifier VQC. It is appended to training data to get 8 features"
      ],
      "id": "ms-ozvtOW5Ir"
    },
    {
      "cell_type": "code",
      "execution_count": null,
      "metadata": {
        "id": "0112289c",
        "outputId": "078aad09-1eae-42b3-b8fa-581c42871ed2",
        "colab": {
          "base_uri": "https://localhost:8080/"
        }
      },
      "outputs": [
        {
          "output_type": "stream",
          "name": "stdout",
          "text": [
            "training_data (320, 7)\n",
            "training time :  5.2583229541778564\n"
          ]
        }
      ],
      "source": [
        "#use meta classifier QSVM on appended train data\n",
        "\n",
        "start_time = time()\n",
        "print(\"training_data\", train_data.shape)\n",
        "qsvc.fit(train_added, train_labels_svm)\n",
        "end_time = time()\n",
        "duration = end_time - start_time\n",
        "print(\"training time : \", duration)"
      ],
      "id": "0112289c"
    },
    {
      "cell_type": "markdown",
      "metadata": {
        "id": "AY4CBgVPXslx"
      },
      "source": [
        "###Get final prediction\n",
        "We test the appended testing data set with 8 features (the 8th feature is appended to original 7 features, 8th feature is the prediction label of that particular test data point using trained base classifier) using the trained meta classifier (QSVM) and get our final prediction results"
      ],
      "id": "AY4CBgVPXslx"
    },
    {
      "cell_type": "code",
      "execution_count": null,
      "metadata": {
        "id": "ffbb5b8d",
        "outputId": "f844298f-e8e1-47c2-f994-2f97846f76e2",
        "colab": {
          "base_uri": "https://localhost:8080/"
        }
      },
      "outputs": [
        {
          "output_type": "stream",
          "name": "stdout",
          "text": [
            "testing time :  216.0924072265625\n",
            "              precision    recall  f1-score   support\n",
            "\n",
            "           0       1.00      0.72      0.84     10000\n",
            "           1       0.26      0.98      0.41      1000\n",
            "\n",
            "    accuracy                           0.75     11000\n",
            "   macro avg       0.63      0.85      0.63     11000\n",
            "weighted avg       0.93      0.75      0.80     11000\n",
            "\n",
            "[[7248 2752]\n",
            " [  19  981]]\n"
          ]
        }
      ],
      "source": [
        "# predict using QSVM meta classifier on appended test data\n",
        "\n",
        "start_time1 = time()\n",
        "y_pred_1 = qsvc.predict(test_added)\n",
        "end_time1 = time()\n",
        "duration1 = end_time1 - start_time1\n",
        "print(\"testing time : \", duration1)\n",
        "print(classification_report(test_labels_svm,y_pred_1))\n",
        "print(confusion_matrix(test_labels_svm,y_pred_1))"
      ],
      "id": "ffbb5b8d"
    }
  ],
  "metadata": {
    "colab": {
      "provenance": [],
      "collapsed_sections": []
    },
    "kernelspec": {
      "display_name": "Python 3",
      "language": "python",
      "name": "python3"
    },
    "language_info": {
      "codemirror_mode": {
        "name": "ipython",
        "version": 3
      },
      "file_extension": ".py",
      "mimetype": "text/x-python",
      "name": "python",
      "nbconvert_exporter": "python",
      "pygments_lexer": "ipython3",
      "version": "3.6.13"
    }
  },
  "nbformat": 4,
  "nbformat_minor": 5
}